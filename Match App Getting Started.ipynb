{
 "cells": [
  {
   "cell_type": "markdown",
   "metadata": {},
   "source": [
    "# Match Application"
   ]
  },
  {
   "cell_type": "markdown",
   "metadata": {},
   "source": [
    "Before launching the application please:\n",
    "\n",
    "\n",
    "- Download R  ( [Tutorial](https://youtu.be/cX532N_XLIs) )\n",
    "\n",
    "    \n",
    "    \n",
    "- If using a Mac; Install XQuartz ( [Tutorial](https://youtu.be/020jEnon8FA?t=175) )\n",
    "    \n",
    "    \n",
    "    "
   ]
  },
  {
   "cell_type": "markdown",
   "metadata": {},
   "source": [
    "If you regularly use the vertion control system Git and encounter the error:\n",
    "> Error: Failed to install 'unknown package' from GitHub:\n",
    "  HTTP error 401.\n",
    "  Bad credentials\n",
    "  \n",
    "Then run: ``Sys.unsetenv(\"GITHUB_PAT\")``"
   ]
  },
  {
   "cell_type": "markdown",
   "metadata": {},
   "source": [
    "### To Install the application from GitHub, run:\n",
    "Note: This may take a few minutes"
   ]
  },
  {
   "cell_type": "code",
   "execution_count": null,
   "metadata": {},
   "outputs": [],
   "source": [
    "install.packages(\"devtools\")\n",
    "devtools::install_github(\"WilliamKopans/MatchPackageBETA\",upgrade = c(\"always\"), force = TRUE, quiet = TRUE)"
   ]
  },
  {
   "cell_type": "markdown",
   "metadata": {},
   "source": [
    "### To launch the application run:\n",
    "Note: You will recieve error messages along the lines of \"replacing previous import,\" these indicate that multiple packages share variable names and do not impact the application."
   ]
  },
  {
   "cell_type": "code",
   "execution_count": null,
   "metadata": {},
   "outputs": [],
   "source": [
    "Match::launchApp()"
   ]
  },
  {
   "cell_type": "markdown",
   "metadata": {},
   "source": [
    "### Finally, click on the local address followed by `Listening on`"
   ]
  },
  {
   "cell_type": "markdown",
   "metadata": {},
   "source": [
    "# Tutorial\n",
    "Once application has been opened, click ```Browse``` and navigate to your first data file. This graph will appear on top. Edit the settings below to reflect the data's charecteristics and double check the file on the right hand side. Select the two variables that you want graphed.\n",
    "\n",
    "On the top bar, click ```Bottom Data Import``` and repeat this process for the second dataset you will work with.\n",
    "\n",
    "Next, click on ```Graphs``` tab. \n",
    "\n",
    "If you want to create a new Tie file, click the ```Download New Tie File``` button which should download an empty tie file into your downloads folder (unless you changed the default). \n",
    "\n",
    "Next, click ```File select``` and navigate to the tie file (either the newly created tie file or a preexisting one).\n",
    "\n",
    "You can now select tie points on the graphs below by clicking on the respective points. There is a field at the top to change the tie point number you are editing and fields to edit the core number below each plots range sliders.\n",
    "\n",
    "__Important:__ When you are done, select ```Finalize Tie File```. This last step prepares the tie file to be imputed into the C++."
   ]
  },
  {
   "cell_type": "code",
   "execution_count": null,
   "metadata": {},
   "outputs": [],
   "source": []
  },
  {
   "cell_type": "code",
   "execution_count": null,
   "metadata": {},
   "outputs": [],
   "source": []
  }
 ],
 "metadata": {
  "kernelspec": {
   "display_name": "R",
   "language": "R",
   "name": "ir"
  },
  "language_info": {
   "codemirror_mode": "r",
   "file_extension": ".r",
   "mimetype": "text/x-r-source",
   "name": "R",
   "pygments_lexer": "r",
   "version": "4.0.2"
  }
 },
 "nbformat": 4,
 "nbformat_minor": 4
}
