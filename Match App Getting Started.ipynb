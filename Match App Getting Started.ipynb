{
 "cells": [
  {
   "cell_type": "markdown",
   "metadata": {},
   "source": [
    "# Match Application"
   ]
  },
  {
   "cell_type": "markdown",
   "metadata": {},
   "source": [
    "Before launching the application please:\n",
    "\n",
    "\n",
    "- Download R  ( [Tutorial](https://youtu.be/cX532N_XLIs) )\n",
    "\n",
    "    \n",
    "    \n",
    "- If using a Mac; Install XQuartz ( [Tutorial](https://youtu.be/020jEnon8FA?t=175) )\n",
    "    \n",
    "    \n",
    "    "
   ]
  },
  {
   "cell_type": "markdown",
   "metadata": {},
   "source": [
    "If you regularly use the vertion control system Git and encounter the error:\n",
    "> Error: Failed to install 'unknown package' from GitHub:\n",
    "  HTTP error 401.\n",
    "  Bad credentials\n",
    "  \n",
    "Then run: ``Sys.unsetenv(\"GITHUB_PAT\")``"
   ]
  },
  {
   "cell_type": "markdown",
   "metadata": {},
   "source": [
    "### To Install the application from GitHub, run:\n",
    "Note: This may take a significant amount of time (1-5 minutes)"
   ]
  },
  {
   "cell_type": "code",
   "execution_count": null,
   "metadata": {},
   "outputs": [],
   "source": [
    "devtools::install_github(\"WilliamKopans/MatchPackageBETA\",upgrade = c(\"always\"), force = TRUE, quiet = TRUE)"
   ]
  },
  {
   "cell_type": "markdown",
   "metadata": {},
   "source": [
    "### To launch the application run:\n",
    "Note: You will recieve error messages along the lines of \"replacing previous import,\" these indicate that multiple packages share variable names and do not impact the application."
   ]
  },
  {
   "cell_type": "code",
   "execution_count": null,
   "metadata": {},
   "outputs": [],
   "source": [
    "Match::launchApp()"
   ]
  },
  {
   "cell_type": "markdown",
   "metadata": {},
   "source": [
    "### Finally, click on the local address followed by `Listening on`"
   ]
  }
 ],
 "metadata": {
  "kernelspec": {
   "display_name": "R",
   "language": "R",
   "name": "ir"
  },
  "language_info": {
   "codemirror_mode": "r",
   "file_extension": ".r",
   "mimetype": "text/x-r-source",
   "name": "R",
   "pygments_lexer": "r",
   "version": "4.0.2"
  }
 },
 "nbformat": 4,
 "nbformat_minor": 4
}
